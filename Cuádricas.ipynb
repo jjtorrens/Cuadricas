{
 "cells": [
  {
   "cell_type": "markdown",
   "metadata": {},
   "source": [
    "# Cuádricas"
   ]
  },
  {
   "cell_type": "markdown",
   "metadata": {},
   "source": [
    "<div class=\"alert alert-block alert-warning\">\n",
    "Evalúa la siguiente celda para cargar las definiciones de las funciones usadas en este cuaderno.\n",
    "</div>"
   ]
  },
  {
   "cell_type": "code",
   "execution_count": null,
   "metadata": {
    "scrolled": false
   },
   "outputs": [],
   "source": [
    "load(\"cuadricas_aux.sage\")"
   ]
  },
  {
   "cell_type": "markdown",
   "metadata": {},
   "source": [
    "## Definición y tipos"
   ]
  },
  {
   "cell_type": "markdown",
   "metadata": {},
   "source": [
    "$\\newcommand{\\R}{\\mathbb{R}}$\n",
    "Sea $f:\\R^3\\to\\R$ una función polinómica cualquiera de grado 2. Supuesto que $0\\in R(f)$, la superficie de nivel $f^{-1}(\\{0\\})$ recibe el nombre de *cuádrica*. Así pues, una *cuádrica* es una superficie que se puede expresar de forma implícita mediante una ecuación como\n",
    "\\\\[\n",
    "   a_{11}x^2+a_{12}x y +a_{13}xz+a_{22}y^2+a_{23}yz+a_{33}z^2\n",
    "  +a_1 x + a_2 y + a_3 z + a_0 =0,\n",
    "\\\\]\n",
    "donde al menos uno de los coeficientes $a_{ij}$ es no nulo.\n",
    "\n",
    "Existen nueve clases principales de cuádricas, descritas en el cuadro siguiente:"
   ]
  },
  {
   "cell_type": "markdown",
   "metadata": {},
   "source": [
    "<table style=\"width:80%\">\n",
    "<thead>\n",
    "<tr>\n",
    "\t<th rowspan=\"2\" style=\"text-align: left;\" width=\"30%\">Cuádrica</th>\n",
    "\t<th rowspan=\"2\" style=\"text-align: left;\" width=\"30%\">Ecuación canónica</th>\n",
    "\t<th colspan=\"3\" style=\"text-align: left;\">Trazas paralelas al plano</th>\n",
    "</tr>\n",
    "<tr> \n",
    "    <th style=\"text-align: left;\">xy</th>\n",
    "    <th style=\"text-align: left;\">xz</th>\n",
    "    <th style=\"text-align: left;\">yz</th>\n",
    "</tr>\n",
    "</thead>\n",
    "\n",
    "<tbody>\n",
    "<tr>\n",
    "\t<td style=\"text-align: left;\"> Elipsoide </td>\n",
    "\t<td style=\"text-align: left;\"> \n",
    "        <span class=\"math\">\\(\\frac{x^2}{a^2}+\\frac{y^2}{b^2}+\\frac{z^2}{c^2}=1\\)</span> </td>\n",
    "\t<td style=\"text-align: left;\"> elipses </td> \n",
    "\t<td style=\"text-align: left;\"> elipses </td>\n",
    "\t<td style=\"text-align: left;\"> elipses </td>\n",
    "</tr>\n",
    "<tr>\n",
    "\t<td style=\"text-align: left;\"> Hiperboloide de una hoja </td>\n",
    "\t<td style=\"text-align: left;\"> \n",
    "        <span class=\"math\">\\(\\frac{x^2}{a^2}+\\frac{y^2}{b^2}-\\frac{z^2}{c^2}=1\\)</span> </td>\n",
    "\t<td style=\"text-align: left;\"> elipses </td>\n",
    "\t<td style=\"text-align: left;\"> hipérbolas </td>\n",
    "\t<td style=\"text-align: left;\"> hipérbolas </td>\n",
    "</tr>\n",
    "<tr>\n",
    "\t<td style=\"text-align: left;\"> Hiperboloide de dos hojas </td>\n",
    "\t<td style=\"text-align: left;\"> \n",
    "        <span class=\"math\">\\(\\frac{x^2}{a^2}+\\frac{y^2}{b^2}-\\frac{z^2}{c^2}=-1\\)</span> </td>\n",
    "\t<td style=\"text-align: left;\"> elipses </td>\n",
    "\t<td style=\"text-align: left;\"> hipérbolas </td>\n",
    "\t<td style=\"text-align: left;\"> hipérbolas </td>\n",
    "</tr>\n",
    "<tr>\n",
    "\t<td style=\"text-align: left;\"> Cono</td>\n",
    "\t<td style=\"text-align: left;\"> \n",
    "        <span class=\"math\">\\(\\frac{x^2}{a^2}+\\frac{y^2}{b^2}-\\frac{z^2}{c^2}=0\\)</span> </td>\n",
    "\t<td style=\"text-align: left;\"> elipses </td>\n",
    "\t<td style=\"text-align: left;\"> hipérbolas </td>\n",
    "\t<td style=\"text-align: left;\"> hipérbolas </td>\n",
    "</tr>\n",
    "<tr>\n",
    "\t<td style=\"text-align: left;\"> Paraboloide elíptico</td>\n",
    "\t<td style=\"text-align: left;\"> \n",
    "        <span class=\"math\">\\(\\frac{x^2}{a^2}+\\frac{y^2}{b^2}=z\\)</span> </td>\n",
    "\t<td style=\"text-align: left;\"> elipses </td>\n",
    "\t<td style=\"text-align: left;\"> parábolas </td>\n",
    "\t<td style=\"text-align: left;\"> parábolas </td>\n",
    "</tr>\n",
    "<tr>\n",
    "\t<td style=\"text-align: left;\"> Paraboloide hiperbólico</td>\n",
    "\t<td style=\"text-align: left;\"> \n",
    "        <span class=\"math\">\\(\\frac{x^2}{a^2}-\\frac{y^2}{b^2}=z\\)</span> </td>\n",
    "\t<td style=\"text-align: left;\"> hipérbolas </td>\n",
    "\t<td style=\"text-align: left;\"> parábolas </td>\n",
    "\t<td style=\"text-align: left;\"> parábolas </td>\n",
    "</tr>\n",
    "<tr>\n",
    "\t<td style=\"text-align: left;\"> Cilindro elíptico</td>\n",
    "\t<td style=\"text-align: left;\"> \n",
    "        <span class=\"math\">\\(\\frac{x^2}{a^2}+\\frac{y^2}{b^2}=1\\)</span> </td>\n",
    "\t<td style=\"text-align: left;\"> elipses </td>\n",
    "\t<td style=\"text-align: left;\"> rectas </td>\n",
    "\t<td style=\"text-align: left;\"> rectas </td>\n",
    "</tr>\n",
    "<tr>\n",
    "\t<td style=\"text-align: left;\"> Cilindro parabólico</td>\n",
    "\t<td style=\"text-align: left;\"> \n",
    "        <span class=\"math\">\\(\\frac{x^2}{a^2}=y\\)</span> </td>\n",
    "\t<td style=\"text-align: left;\"> parábolas </td>\n",
    "\t<td style=\"text-align: left;\"> rectas </td>\n",
    "\t<td style=\"text-align: left;\"> rectas </td>\n",
    "</tr>\n",
    "<tr>\n",
    "\t<td style=\"text-align: left;\"> Cilindro hiperbólico</td>\n",
    "\t<td style=\"text-align: left;\"> \n",
    "        <span class=\"math\">\\(\\frac{x^2}{a^2}-\\frac{y^2}{b^2}=1\\)</span> </td>\n",
    "\t<td style=\"text-align: left;\"> hipérbolas </td>\n",
    "\t<td style=\"text-align: left;\"> rectas </td>\n",
    "\t<td style=\"text-align: left;\"> rectas </td>\n",
    "</tr>\n",
    "\n",
    "</tbody>\n",
    "</table>"
   ]
  },
  {
   "cell_type": "markdown",
   "metadata": {},
   "source": [
    "En el cuadro precedente se indica, para cada cuádrica, cuál es su *ecuación canónica*, es decir, la ecuación que satisface todo punto de la cuádrica cuando ésta se encuentra centrada en el punto $(0,0,0)$ y dispuesta de forma simétrica respecto a un par de planos coordenados,  de modo que el eje principal de simetría de la cuádrica coincida con el eje $Oz$ . Toda cuádrica puede ser llevada a esa posición mediante traslaciones y giros en el espacio.\n",
    "\n",
    "El cuadro también indica cómo son las *trazas* de la cuádrica, es decir, las curvas resultantes de cortar ésta con planos paralelos a alguno de los planos coordenados.\n",
    "\n",
    "Evalúa la siguiente celda para generar una figura interactiva. Se muestran en ella todas las cuádricas mencionadas, que se seleccionan mediante el menú desplegable. Se pueden marcar las trazas, escogiendo además el plano coordenado al que son paralelas. Cada traza está formada por los puntos que tienen el mismo color. Para ver, por ejemplo, las trazas paralelas al plano $xy$, conviene rotar la figura de modo que el punto de vista quede en un extremo del eje $Oz$. Análogamente, las trazas paralelas a los planos $xz$ e $yz$ se contemplan mejor desde los extremos de los ejes $Oy$ y $Ox$, respectivamente.\n",
    "\n",
    "De acuerdo con lo expresado en el cuadro, se observa con facilidad que las trazas siempre son cónicas (elipses, hipérbolas y parábolas,  que, en ocasiones, degeneran en puntos o rectas), así como rectas en el caso de los cilindros."
   ]
  },
  {
   "cell_type": "code",
   "execution_count": null,
   "metadata": {
    "tags": [
     "hide_input"
    ]
   },
   "outputs": [],
   "source": [
    "Catalogo_cuadricas()"
   ]
  },
  {
   "cell_type": "markdown",
   "metadata": {},
   "source": [
    "Desde una perspectiva topológica, todas las cuádricas representadas en el panel precedente son conjuntos cerrados de $\\R^3$, ya que son la antiimagen mediante una función continua (un polinomio de grado 2) de un conjunto cerrado en $\\R$ (el conjunto $\\{0\\}$). El elipsoide es también un conjunto acotado, por lo que es asimismo un conjunto compacto. Señalemos, por último, que, a excepción del hiperboloide de dos hojas y del cilindro hiperbólico, todas las cuádricas consideradas son conjuntos conexos.\n",
    "\n",
    "A las cuádricas ya citadas cabe añadir las denominadas *cuádricas degeneradas*, pues se reducen a un punto, una recta, un plano o un par de planos. El cuadro siguiente proporciona, para concluir, la forma canónica de las cuádricas degeneradas:\n",
    "\n",
    "<table>\n",
    "<thead>\n",
    "<tr>\n",
    "        <th style=\"text-align: left;\"  width=40%>Ecuación </th>\n",
    "        <th style=\"text-align: left;\"> Cuádrica degenerada </th>\n",
    "</tr>\n",
    "</thead>\n",
    "<tbody>\n",
    "<tr>\n",
    "\t<td style=\"text-align: left;\"> <span class=\"math\">\\(\\frac{x^2}{a^2}+\\frac{y^2}{b^2}+\\frac{z^2}{c^2}=0\\)</span> </td>\n",
    "\t<td style=\"text-align: left;\">punto \\((0,0,0)\\) </td> \n",
    "</tr>\n",
    "<tr>\n",
    "\t<td style=\"text-align: left;\"> <span class=\"math\">\\(\\frac{x^2}{a^2}+\\frac{y^2}{b^2}=0\\)</span> </td>\n",
    "\t<td style=\"text-align: left;\">recta intersección de los planos \\(x=0\\) e \\(y=0\\) </td>\n",
    "</tr>\n",
    "<tr>\n",
    "\t<td style=\"text-align: left;\"> <span class=\"math\">\\(\\frac{x^2}{a^2}-\\frac{y^2}{b^2}=0\\)</span> </td>\n",
    "\t<td style=\"text-align: left;\">planos secantes \\(bx+ay=0\\) y \\(bx-ay=0\\) </td>\n",
    "</tr>\n",
    "<tr>\n",
    "\t<td style=\"text-align: left;\"><span class=\"math\">\\(\\frac{x^2}{a^2}=1\\)</span></td>\n",
    "\t<td style=\"text-align: left;\">planos paralelos \\(x=a\\) y \\(x=-a\\)</td>\n",
    "</tr>\n",
    "<tr>\n",
    "\t<td style=\"text-align: left;\"><span class=\"math\">\\(\\frac{x^2}{a^2}=0\\)</span></td>\n",
    "\t<td style=\"text-align: left;\">plano \\(x=0\\)</td>\n",
    "</tr>\n",
    "</tbody>\n",
    "</table>"
   ]
  },
  {
   "cell_type": "markdown",
   "metadata": {},
   "source": [
    "## Identificación de cuádricas\n",
    "\n",
    "Por lo general, dada una cuádrica en forma implícita, no es inmediato reconocer de qué tipo es. No obstante, resulta relativamente sencillo hacerlo si la ecuación carece de términos mixtos, es decir, de los productos $x\\,y$, $x\\,z$ e $y\\,z$. En tal caso, mediante *compleción de cuadrados*, se lleva la ecuación implícita a una de las ecuaciones canónicas, con la diferencia de que, en vez de $x$, $y$ y $z$, pueden aparecer binomios de la forma $x-x_0$, $y-y_0$ y $z-z_0$. También pueden estar intercambiados los papeles de las variables. Geométricamente, estas cuádricas proceden de otras en posición canónica a las que se traslada y luego gira para que su eje principal de simetría sea paralelo a uno de los ejes coordenados.\n",
    "\n",
    "Pongamos un ejemplo. Consideremos la cuádrica\n",
    "\\\\[\n",
    "   9\\,y^2 - 16\\,z^2 - 144\\,x + 36\\,y + 64\\,z - 172 = 0.\n",
    "\\\\]\n",
    "Completamos cuadrados. Para ello, primero agrupamos los términos de cada variable:\n",
    "\\\\[\n",
    "   (9y^2+36y) - (16z^2-64z) - 144\\,x - 172 = 0 \n",
    "\\\\]\n",
    "Sacamos como factor común los coeficientes de los términos de grado $2$:\n",
    "\\\\[\n",
    "   9(y^2+4y) - 16(z^2-4z) - 144\\,x - 172 = 0.\n",
    "\\\\]\n",
    "Sumamos y luego restamos, para compensar, los números necesarios para que cada paréntesis dé lugar a un cuadrado perfecto:\n",
    "\\\\[\n",
    "   9(y^2+4y+4) - 36 - 16(z^2-4z+4) + 64 - 144\\,x - 172 = 0.\n",
    "\\\\]\n",
    "Expresamos los paréntesis como cuadrados:\n",
    "\\\\[\n",
    "   9(y+2)^2 - 16(z-2)^2 - 144\\,x - 144 = 0.\n",
    "\\\\]\n",
    "Pasamos al segundo miembro todos los términos de grado $1$ o constantes:\n",
    "\\\\[\n",
    "   9(y+2)^2 - 16(z-2)^2 = 144(x+1).\n",
    "\\\\]\n",
    "Dividimos por la constante apropiada para que sea $1$, en el segundo miembro, el coeficiente del término de mayor grado:\n",
    "\\\\[\n",
    "   \\frac{(y+2)^2}{16} - \\frac{(z-2)^2}{9} = x + 1\n",
    "\\\\]\n",
    "Comparando con las ecuaciones canónicas, se observa que la ecuación obtenida se asemeja a ésta:\n",
    "\\\\[\n",
    "   \\frac{x^2}{a^2}-\\frac{y^2}{b^2}=z.\n",
    "\\\\]\n",
    "La diferencia estriba en que, en vez de $x$, $y$ y $z$, tenemos $y+2$, $z-2$ y $x+1$. Así pues, se trata de una *paraboloide hiperbólico*, centrado en el punto $(-1,-2,2)$ y dispuesto de modo que su eje principal de simetría es $Ox$ (se han permutado los papeles de las variables $x$ y $z$). Representamos gráficamente esta cuádrica:"
   ]
  },
  {
   "cell_type": "code",
   "execution_count": null,
   "metadata": {},
   "outputs": [],
   "source": [
    "var(\"x,y,z\")\n",
    "implicit_plot3d(9*y^2-16*z^2-144*x+36*y+64*z-172 == 0, \n",
    "              (x,-9,7), (y,-12,8), (z,-10,14), color=\"green\")"
   ]
  },
  {
   "cell_type": "markdown",
   "metadata": {},
   "source": [
    "Una vez evaluada, la siguiente celda te permitirá adquirir una cierta soltura a la hora de identificar cuádricas. Cada vez que pulses el botón **Nuevo problema**, SageMath te propondrá la ecuación implícita de una cuádrica. Marca o desmarca la casilla **Mostrar la solución** para ver u ocultar la ecuación en forma canónica, el tipo de cuádrica y su representación gráfica. Puedes mejorar ésta mediante el selector de color y los controles deslizantes que regulan los intervalos considerados para cada variable. Pulsa sobre el botón **Actualizar** para visualizar los cambios realizados. "
   ]
  },
  {
   "cell_type": "code",
   "execution_count": null,
   "metadata": {},
   "outputs": [],
   "source": [
    "Identificar_cuadricas()"
   ]
  },
  {
   "cell_type": "markdown",
   "metadata": {},
   "source": [
    "<div class=\"alert alert-block alert-warning\">\n",
    "<strong>Celda de configuración</strong>.\n",
    "La evaluación de la celda siguiente cambia el formato por omisión de este cuaderno.\n",
    "</div>"
   ]
  },
  {
   "cell_type": "code",
   "execution_count": 1,
   "metadata": {},
   "outputs": [
    {
     "data": {
      "text/html": [
       "<style>\n",
       "h1{text-align: center; color: rgb(185,74,72);}\n",
       "h2{text-align: center; color: rgb(0,102,0); padding: 0.25em 0;\n",
       "   border: 2px solid rgb(0,191,0); border-width: 2px 0;}\n",
       "h3{border-bottom: 2px solid rgb(153,153,153);} \n",
       "h4{color: rgb(58,135,173); font-size: 115%!important;\n",
       "   font-weight: bold!important;}\n",
       ".text_cell_render{font-family: \"Trebuchet MS\",Geneva,sans-serif;\n",
       "                  font-size: 110%; line-height: 1.5;}\n",
       ".MathJax_Display{margin: 0.5em 0;}\n",
       "th, td{font-size: larger;}\n",
       "</style>"
      ],
      "text/plain": [
       "<IPython.core.display.HTML object>"
      ]
     },
     "metadata": {},
     "output_type": "display_data"
    }
   ],
   "source": [
    "%%html\n",
    "<style>\n",
    "h1{text-align: center; color: rgb(185,74,72);}\n",
    "h2{text-align: center; color: rgb(0,102,0); padding: 0.25em 0;\n",
    "   border: 2px solid rgb(0,191,0); border-width: 2px 0;}\n",
    "h3{border-bottom: 2px solid rgb(153,153,153);} \n",
    "h4{color: rgb(58,135,173); font-size: 115%!important;\n",
    "   font-weight: bold!important;}\n",
    ".text_cell_render{font-family: \"Trebuchet MS\",Geneva,sans-serif;\n",
    "                  font-size: 110%; line-height: 1.5;}\n",
    ".MathJax_Display{margin: 0.5em 0;}\n",
    "th, td{font-size: larger;}\n",
    "</style>"
   ]
  },
  {
   "cell_type": "markdown",
   "metadata": {},
   "source": [
    "<div class=\"alert alert-success\">\n",
    "Realizado por <emph>Juan José Torrens</emph> para la asignatura de <strong>Cálculo II</strong><br>\n",
    "Grados de <strong>Ciencias</strong> y de <strong>Ciencia de Datos</strong><br>\n",
    "Universidad Pública de Navarra<br>\n",
    "Curso 2019-20\n",
    "</div>"
   ]
  }
 ],
 "metadata": {
  "kernelspec": {
   "display_name": "SageMath 9.0",
   "language": "sage",
   "name": "sagemath"
  },
  "language_info": {
   "codemirror_mode": {
    "name": "ipython",
    "version": 3
   },
   "file_extension": ".py",
   "mimetype": "text/x-python",
   "name": "python",
   "nbconvert_exporter": "python",
   "pygments_lexer": "ipython3",
   "version": "3.7.3"
  }
 },
 "nbformat": 4,
 "nbformat_minor": 2
}
